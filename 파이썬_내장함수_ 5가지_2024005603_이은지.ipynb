{
  "metadata": {
    "kernelspec": {
      "name": "python",
      "display_name": "Python (Pyodide)",
      "language": "python"
    },
    "language_info": {
      "codemirror_mode": {
        "name": "python",
        "version": 3
      },
      "file_extension": ".py",
      "mimetype": "text/x-python",
      "name": "python",
      "nbconvert_exporter": "python",
      "pygments_lexer": "ipython3",
      "version": "3.8"
    }
  },
  "nbformat_minor": 4,
  "nbformat": 4,
  "cells": [
    {
      "cell_type": "markdown",
      "source": "### 1. all()함수\n이 함수는 iterable 객체(리스트, 튜플, 문자열 등)에 대해 각 요소들이 모두 참이라면 참을 반환하고, 하나라도 거짓이 있다면 거짓을 반환하는 함수이다.",
      "metadata": {}
    },
    {
      "cell_type": "code",
      "source": "list1 = [3>2, True, type('은지') == str, len('안녕') == 2]\nprint(all(list1))\n\nlist1 = [3>2, True, type('은지') == int, len('안녕') == 2]\nprint(all(list1))",
      "metadata": {
        "trusted": true
      },
      "outputs": [
        {
          "name": "stdout",
          "text": "True\nFalse\n",
          "output_type": "stream"
        }
      ],
      "execution_count": 3
    },
    {
      "cell_type": "markdown",
      "source": "### 2. any()함수\n이 함수는 iterable 객체에 대해 각 요소들 중 하나라도 참이라면 참을 반환하고, 모두 거짓이라면 거짓을 반환하는 함수이다.",
      "metadata": {}
    },
    {
      "cell_type": "code",
      "source": "list1 = [3<2, False, type('은지') == int, len('안녕') == 4]\nprint(any(list1))\n\nlist1 = [3<2, True, type('은지') == int, len('안녕') == 4]\nprint(any(list1))",
      "metadata": {
        "trusted": true
      },
      "outputs": [
        {
          "name": "stdout",
          "text": "False\nTrue\n",
          "output_type": "stream"
        }
      ],
      "execution_count": 6
    },
    {
      "cell_type": "markdown",
      "source": "### 3. enumerate()함수\n이 함수는 iterable 객체에 대해 각 요소와 해당 요소의 인덱스를 포함한 튜플 객체를 반환하는 함수이다.",
      "metadata": {}
    },
    {
      "cell_type": "code",
      "source": "my_fav = ['apple', 'money', 'xylitol', 'friends']\nfor index, value in enumerate(my_fav):\n    print(f'{value}[{index}]')",
      "metadata": {
        "trusted": true
      },
      "outputs": [
        {
          "name": "stdout",
          "text": "apple[0]\nmoney[1]\nxylitol[2]\nfriends[3]\n",
          "output_type": "stream"
        }
      ],
      "execution_count": 10
    },
    {
      "cell_type": "markdown",
      "source": "### 4. iter()함수\n이 함수는 iterable 객체를 받고 해당 객체의 iterator를 반환하는 함수이다.\n+)iterator은 순차적으로 요소를 하나씩 반환할 수 있는 객체이다.\n+)next()함수는 반복자를 인자로 받아서 해당 반복자에서 다음 요소를 가져온다. 만약 다음 요소가 없다면 에외를 발생시킨다.",
      "metadata": {}
    },
    {
      "cell_type": "code",
      "source": "numbers = [3,4,5,6,7,8]\nnum_iterator = iter(numbers)\n\nprint(next(num_iterator))\nprint(next(num_iterator))\nprint(next(num_iterator))\nprint(next(num_iterator))\nprint(next(num_iterator))\nprint(next(num_iterator))",
      "metadata": {
        "trusted": true
      },
      "outputs": [
        {
          "name": "stdout",
          "text": "3\n4\n5\n6\n7\n8\n",
          "output_type": "stream"
        }
      ],
      "execution_count": 15
    },
    {
      "cell_type": "markdown",
      "source": "### 5. zip()함수\n이 함수는 여러 개의 iterable 객체를 받아 각 요소들을 하나로 묶어 튜플로 구성된 새로운 객체를 반환하는 함수이다.",
      "metadata": {}
    },
    {
      "cell_type": "code",
      "source": "numbers = [1,2,3,4]\nnames = ['이은지', '홍예진', '백소리' , '김해린']\n\nfor num, name in zip(numbers, names):\n    print(num, name)",
      "metadata": {
        "trusted": true
      },
      "outputs": [
        {
          "name": "stdout",
          "text": "1 이은지\n2 홍예진\n3 백소리\n4 김해린\n",
          "output_type": "stream"
        }
      ],
      "execution_count": 18
    }
  ]
}